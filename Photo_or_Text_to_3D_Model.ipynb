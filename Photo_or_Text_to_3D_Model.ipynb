{
 "cells": [
  {
   "cell_type": "code",
   "execution_count": 1,
   "id": "9ffad684-1845-49a4-b439-0f1f8a3527f7",
   "metadata": {},
   "outputs": [
    {
     "name": "stdout",
     "output_type": "stream",
     "text": [
      "Jupyter environment detected. Enabling Open3D WebVisualizer.\n",
      "[Open3D INFO] WebRTC GUI backend enabled.\n",
      "[Open3D INFO] WebRTCWindowSystem: HTTP handshake server disabled.\n"
     ]
    }
   ],
   "source": [
    "import numpy as np\n",
    "import cv2\n",
    "import open3d as o3d\n",
    "import matplotlib.pyplot as plt\n",
    "import tkinter as tk\n",
    "from tkinter import filedialog\n",
    "from skimage import measure\n",
    "import pyrender\n",
    "import torch\n",
    "from transformers import AutoTokenizer, AutoModel\n",
    "import os\n"
   ]
  },
  {
   "cell_type": "code",
   "execution_count": 2,
   "id": "52db5b1f",
   "metadata": {},
   "outputs": [],
   "source": [
    "def select_image():\n",
    "    root = tk.Tk()\n",
    "    root.withdraw()\n",
    "    file_path = filedialog.askopenfilename(filetypes=[(\"Image files\", \"*.png;*.jpg;*.jpeg\")])\n",
    "    return file_path"
   ]
  },
  {
   "cell_type": "code",
   "execution_count": 3,
   "id": "159edc52",
   "metadata": {},
   "outputs": [],
   "source": [
    "def generate_3d_volume(image_path, depth_layers=30):\n",
    "    image = cv2.imread(image_path)\n",
    "    rgb = cv2.cvtColor(image, cv2.COLOR_BGR2RGB)\n",
    "    gray = cv2.cvtColor(image, cv2.COLOR_BGR2GRAY)\n",
    "    norm = gray.astype(float) / 255.0\n",
    "    \n",
    "    volume = np.zeros((gray.shape[0], gray.shape[1], depth_layers))\n",
    "    for z in range(depth_layers):\n",
    "        factor = 1.0 - (z / depth_layers)\n",
    "        volume[:, :, z] = norm * factor\n",
    "    return volume, rgb\n"
   ]
  },
  {
   "cell_type": "code",
   "execution_count": 4,
   "id": "1792ccaa",
   "metadata": {},
   "outputs": [],
   "source": [
    "def create_mesh(volume, rgb):\n",
    "    verts, faces, _, _ = measure.marching_cubes(volume, level=0.1)\n",
    "    mesh = o3d.geometry.TriangleMesh()\n",
    "    \n",
    "    verts_swapped = np.column_stack([verts[:,1], verts[:,0], verts[:,2]])\n",
    "    mesh.vertices = o3d.utility.Vector3dVector(verts_swapped)\n",
    "    mesh.triangles = o3d.utility.Vector3iVector(faces)\n",
    "    \n",
    "    h, w = rgb.shape[:2]\n",
    "    vertex_colors = []\n",
    "    \n",
    "    for vertex in verts_swapped:\n",
    "        x = int(np.clip(vertex[0], 0, w - 1))\n",
    "        y = int(np.clip(vertex[1], 0, h - 1))\n",
    "        color = rgb[y, x] / 255.0\n",
    "        vertex_colors.append(color)\n",
    "    \n",
    "    mesh.vertex_colors = o3d.utility.Vector3dVector(vertex_colors)\n",
    "    mesh.compute_vertex_normals()\n",
    "    return mesh\n"
   ]
  },
  {
   "cell_type": "code",
   "execution_count": 5,
   "id": "e3c4e83e",
   "metadata": {},
   "outputs": [],
   "source": [
    "def save_and_render(mesh, output_file=\"output_model.stl\"):\n",
    "    o3d.io.write_triangle_mesh(output_file, mesh)\n",
    "    print(f\"Mesh saved as: {output_file}\")\n",
    "    \n",
    "    pyrender_mesh = pyrender.Mesh.from_trimesh(mesh)\n",
    "    scene = pyrender.Scene()\n",
    "    scene.add(pyrender_mesh)\n",
    "    viewer = pyrender.Viewer(scene, use_raymond_lighting=True)\n"
   ]
  },
  {
   "cell_type": "code",
   "execution_count": null,
   "id": "d2641765",
   "metadata": {},
   "outputs": [],
   "source": [
    "image_path = select_image()\n",
    "\n",
    "if image_path:\n",
    "    volume, rgb = generate_3d_volume(image_path)\n",
    "    mesh = create_mesh(volume, rgb)\n",
    "    save_and_render(mesh)\n",
    "else:\n",
    "    print(\"No image selected.\")\n"
   ]
  }
 ],
 "metadata": {
  "kernelspec": {
   "display_name": "venv",
   "language": "python",
   "name": "python3"
  },
  "language_info": {
   "codemirror_mode": {
    "name": "ipython",
    "version": 3
   },
   "file_extension": ".py",
   "mimetype": "text/x-python",
   "name": "python",
   "nbconvert_exporter": "python",
   "pygments_lexer": "ipython3",
   "version": "3.12.10"
  }
 },
 "nbformat": 4,
 "nbformat_minor": 5
}
