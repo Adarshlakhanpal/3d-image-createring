{
 "cells": [
  {
   "cell_type": "code",
   "execution_count": 1,
   "id": "c8ffbee9-300b-419e-a463-fe516f07aeb8",
   "metadata": {},
   "outputs": [
    {
     "name": "stdout",
     "output_type": "stream",
     "text": [
      "Looking in indexes: https://pypi.org/simple, https://pypi.ngc.nvidia.com\n",
      "Requirement already satisfied: transformers in .\\venv\\lib\\site-packages (4.51.3)\n",
      "Requirement already satisfied: torch in .\\venv\\lib\\site-packages (2.7.0)\n",
      "Requirement already satisfied: numpy in .\\venv\\lib\\site-packages (1.26.4)\n",
      "Requirement already satisfied: trimesh in .\\venv\\lib\\site-packages (4.6.8)\n",
      "Requirement already satisfied: pyrender in .\\venv\\lib\\site-packages (0.1.45)\n",
      "Requirement already satisfied: filelock in .\\venv\\lib\\site-packages (from transformers) (3.18.0)\n",
      "Requirement already satisfied: huggingface-hub<1.0,>=0.30.0 in .\\venv\\lib\\site-packages (from transformers) (0.30.2)\n",
      "Requirement already satisfied: packaging>=20.0 in .\\venv\\lib\\site-packages (from transformers) (25.0)\n",
      "Requirement already satisfied: pyyaml>=5.1 in .\\venv\\lib\\site-packages (from transformers) (6.0.2)\n",
      "Requirement already satisfied: regex!=2019.12.17 in .\\venv\\lib\\site-packages (from transformers) (2024.11.6)\n",
      "Requirement already satisfied: requests in .\\venv\\lib\\site-packages (from transformers) (2.32.3)\n",
      "Requirement already satisfied: tokenizers<0.22,>=0.21 in .\\venv\\lib\\site-packages (from transformers) (0.21.1)\n",
      "Requirement already satisfied: safetensors>=0.4.3 in .\\venv\\lib\\site-packages (from transformers) (0.5.3)\n",
      "Requirement already satisfied: tqdm>=4.27 in .\\venv\\lib\\site-packages (from transformers) (4.67.1)\n",
      "Requirement already satisfied: fsspec>=2023.5.0 in .\\venv\\lib\\site-packages (from huggingface-hub<1.0,>=0.30.0->transformers) (2025.3.2)\n",
      "Requirement already satisfied: typing-extensions>=3.7.4.3 in .\\venv\\lib\\site-packages (from huggingface-hub<1.0,>=0.30.0->transformers) (4.13.2)\n",
      "Requirement already satisfied: sympy>=1.13.3 in .\\venv\\lib\\site-packages (from torch) (1.14.0)\n",
      "Requirement already satisfied: networkx in .\\venv\\lib\\site-packages (from torch) (3.4.2)\n",
      "Requirement already satisfied: jinja2 in .\\venv\\lib\\site-packages (from torch) (3.1.6)\n",
      "Requirement already satisfied: setuptools in .\\venv\\lib\\site-packages (from torch) (80.0.0)\n",
      "Requirement already satisfied: freetype-py in .\\venv\\lib\\site-packages (from pyrender) (2.5.1)\n",
      "Requirement already satisfied: imageio in .\\venv\\lib\\site-packages (from pyrender) (2.37.0)\n",
      "Requirement already satisfied: Pillow in .\\venv\\lib\\site-packages (from pyrender) (11.2.1)\n",
      "Requirement already satisfied: pyglet>=1.4.10 in .\\venv\\lib\\site-packages (from pyrender) (2.1.6)\n",
      "Requirement already satisfied: PyOpenGL==3.1.0 in .\\venv\\lib\\site-packages (from pyrender) (3.1.0)\n",
      "Requirement already satisfied: scipy in .\\venv\\lib\\site-packages (from pyrender) (1.15.2)\n",
      "Requirement already satisfied: six in .\\venv\\lib\\site-packages (from pyrender) (1.17.0)\n",
      "Requirement already satisfied: mpmath<1.4,>=1.1.0 in .\\venv\\lib\\site-packages (from sympy>=1.13.3->torch) (1.3.0)\n",
      "Requirement already satisfied: colorama in .\\venv\\lib\\site-packages (from tqdm>=4.27->transformers) (0.4.6)\n",
      "Requirement already satisfied: MarkupSafe>=2.0 in .\\venv\\lib\\site-packages (from jinja2->torch) (3.0.2)\n",
      "Requirement already satisfied: charset-normalizer<4,>=2 in .\\venv\\lib\\site-packages (from requests->transformers) (3.4.1)\n",
      "Requirement already satisfied: idna<4,>=2.5 in .\\venv\\lib\\site-packages (from requests->transformers) (3.10)\n",
      "Requirement already satisfied: urllib3<3,>=1.21.1 in .\\venv\\lib\\site-packages (from requests->transformers) (2.4.0)\n",
      "Requirement already satisfied: certifi>=2017.4.17 in .\\venv\\lib\\site-packages (from requests->transformers) (2025.4.26)\n",
      "Note: you may need to restart the kernel to use updated packages.\n"
     ]
    }
   ],
   "source": [
    "%pip install transformers torch numpy trimesh pyrender\n"
   ]
  },
  {
   "cell_type": "code",
   "execution_count": 1,
   "id": "7912f7a4",
   "metadata": {},
   "outputs": [],
   "source": [
    "from transformers import AutoTokenizer, AutoModel\n",
    "import torch\n",
    "import numpy as np\n",
    "from pathlib import Path\n",
    "import trimesh\n",
    "import pyrender\n"
   ]
  },
  {
   "cell_type": "code",
   "execution_count": 2,
   "id": "af4ec5f6",
   "metadata": {},
   "outputs": [],
   "source": [
    "tokenizer = AutoTokenizer.from_pretrained(\"sentence-transformers/all-MiniLM-L6-v2\")\n",
    "model = AutoModel.from_pretrained(\"sentence-transformers/all-MiniLM-L6-v2\")"
   ]
  },
  {
   "cell_type": "code",
   "execution_count": 3,
   "id": "ba596dd1",
   "metadata": {},
   "outputs": [],
   "source": [
    "def get_text_embedding(text):\n",
    "    inputs = tokenizer(text, return_tensors=\"pt\", padding=True, truncation=True)\n",
    "    with torch.no_grad():\n",
    "        outputs = model(**inputs)\n",
    "    return outputs.last_hidden_state.mean(dim=1).squeeze().numpy()\n"
   ]
  },
  {
   "cell_type": "code",
   "execution_count": 4,
   "id": "b5566781",
   "metadata": {},
   "outputs": [],
   "source": [
    "shape_library = {\n",
    "    \"car\": \"shapes/car.obj\",\n",
    "    \"airplane\": \"shapes/airplane.obj\",\n",
    "    \"chair\": \"shapes/chair.obj\",\n",
    "    \"table\": \"shapes/table.obj\",\n",
    "    \"cube\": \"shapes/cube.obj\"\n",
    "}\n"
   ]
  },
  {
   "cell_type": "code",
   "execution_count": 5,
   "id": "4196ca89",
   "metadata": {},
   "outputs": [],
   "source": [
    "def retrieve_closest_shape(prompt):\n",
    "    prompt_vec = get_text_embedding(prompt)\n",
    "    best_match = None\n",
    "    best_score = float(\"-inf\")\n",
    "\n",
    "    for label, path in shape_library.items():\n",
    "        label_vec = get_text_embedding(label)\n",
    "        similarity = np.dot(prompt_vec, label_vec) / (np.linalg.norm(prompt_vec) * np.linalg.norm(label_vec))\n",
    "\n",
    "        if similarity > best_score:\n",
    "            best_score = similarity\n",
    "            best_match = path\n",
    "\n",
    "    if best_match:\n",
    "        print(f\"[✔] Matched Prompt to Shape: '{Path(best_match).stem}'\")\n",
    "        return best_match\n",
    "    else:\n",
    "        print(\"[✖] No shape matched.\")\n",
    "        return None\n"
   ]
  },
  {
   "cell_type": "code",
   "execution_count": 6,
   "id": "05aa2ac0",
   "metadata": {},
   "outputs": [],
   "source": [
    "def render_shape(shape_path):\n",
    "    if shape_path is None:\n",
    "        print(\"[✖] No shape file returned. Skipping render.\")\n",
    "        return\n",
    "\n",
    "    path = Path(shape_path)\n",
    "    if not path.exists():\n",
    "        print(f\"[✖] File not found: {shape_path}\")\n",
    "        return\n",
    "\n",
    "    mesh = trimesh.load_mesh(str(path))\n",
    "    pyrender_mesh = pyrender.Mesh.from_trimesh(mesh)\n",
    "    scene = pyrender.Scene()\n",
    "    scene.add(pyrender_mesh)\n",
    "    pyrender.Viewer(scene, use_raymond_lighting=True)\n"
   ]
  },
  {
   "cell_type": "code",
   "execution_count": 7,
   "id": "f479d24f",
   "metadata": {},
   "outputs": [
    {
     "name": "stdout",
     "output_type": "stream",
     "text": [
      "[✔] Matched Prompt to Shape: 'cube'\n",
      "[✖] File not found: shapes/cube.obj\n"
     ]
    }
   ],
